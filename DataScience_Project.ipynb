{
 "cells": [
  {
   "cell_type": "markdown",
   "id": "bc02684b-d386-4ab0-aef2-3a69a9c96e10",
   "metadata": {},
   "source": [
    "# Data Science Project Notebook"
   ]
  },
  {
   "cell_type": "markdown",
   "id": "1f28ff50-4264-4cfa-acff-b7ccb958b974",
   "metadata": {},
   "source": [
    "## Introduction\n",
    "### This notebook serves as the final project for the Data Science course. It includes various exercises that demonstrate the use of Markdown and code cells in a Jupyter notebook."
   ]
  },
  {
   "cell_type": "markdown",
   "id": "164fc347-5ccb-42ce-9e81-696e259439f6",
   "metadata": {},
   "source": [
    "### List of all Data Science Languages\n",
    "- Python\n",
    "- R\n",
    "- SQL\n",
    "- Julia\n",
    "- Java"
   ]
  },
  {
   "cell_type": "markdown",
   "id": "cdf91be5-5bf7-41ff-bdb1-2f477eaebbbc",
   "metadata": {},
   "source": [
    "### Data Science Libraries\n",
    "- Pandas\n",
    "- NumPy\n",
    "- Matplotlib\n",
    "- Scikit-learn\n",
    "- TensorFlow\n",
    "- Keras"
   ]
  },
  {
   "cell_type": "markdown",
   "id": "2bb3f767-6845-4416-9778-46155b2f5d76",
   "metadata": {},
   "source": [
    "### Data Science Tools\n",
    "| Tool           | Description                                   |\n",
    "|----------------|-----------------------------------------------|\n",
    "| Jupyter        | Notebook environment for interactive computing|\n",
    "| RStudio        | Integrated development environment for R      |\n",
    "| Apache Spark   | Cluster-computing framework                   |\n",
    "| Tableau        | Data visualization tool                       |"
   ]
  },
  {
   "cell_type": "markdown",
   "id": "6d00e93d-52da-4c9d-bf45-e6cd0834c6e3",
   "metadata": {},
   "source": [
    "### Arithmetic Expression Examples\n",
    "Below are examples of simple arithmetic expressions using Python code."
   ]
  },
  {
   "cell_type": "markdown",
   "id": "a54f55a3-171f-474e-b511-62092ab2e955",
   "metadata": {},
   "source": [
    "#### Adding two numbers"
   ]
  },
  {
   "cell_type": "code",
   "execution_count": 21,
   "id": "63d3dff5-1d55-4708-be17-f317272f095e",
   "metadata": {},
   "outputs": [
    {
     "data": {
      "text/plain": [
       "10"
      ]
     },
     "execution_count": 21,
     "metadata": {},
     "output_type": "execute_result"
    }
   ],
   "source": [
    "7 + 3"
   ]
  },
  {
   "cell_type": "markdown",
   "id": "b0521918-d9b4-46cd-88fb-91d1d5ec0444",
   "metadata": {},
   "source": [
    "#### Substracting two numbers"
   ]
  },
  {
   "cell_type": "code",
   "execution_count": 23,
   "id": "c3e22802-d1b6-4f7c-8815-d6ede198b612",
   "metadata": {},
   "outputs": [
    {
     "data": {
      "text/plain": [
       "6"
      ]
     },
     "execution_count": 23,
     "metadata": {},
     "output_type": "execute_result"
    }
   ],
   "source": [
    "10 - 4"
   ]
  },
  {
   "cell_type": "markdown",
   "id": "9835fd88-2433-49da-a09b-0286197f4dbe",
   "metadata": {},
   "source": [
    "#### Multiplying two numbers"
   ]
  },
  {
   "cell_type": "code",
   "execution_count": 27,
   "id": "ac286fe8-c8c8-4497-8737-c7140009da4f",
   "metadata": {},
   "outputs": [
    {
     "data": {
      "text/plain": [
       "40"
      ]
     },
     "execution_count": 27,
     "metadata": {},
     "output_type": "execute_result"
    }
   ],
   "source": [
    "8 * 5"
   ]
  },
  {
   "cell_type": "markdown",
   "id": "0cab442a-ea1b-40dc-ba90-a5ffbe84df4f",
   "metadata": {},
   "source": [
    "#### Dividing one number by another"
   ]
  },
  {
   "cell_type": "code",
   "execution_count": 29,
   "id": "8fdbc1d4-fc4c-4e69-86c3-9bcb4ed557cc",
   "metadata": {},
   "outputs": [
    {
     "data": {
      "text/plain": [
       "5.0"
      ]
     },
     "execution_count": 29,
     "metadata": {},
     "output_type": "execute_result"
    }
   ],
   "source": [
    "20 / 4"
   ]
  },
  {
   "cell_type": "markdown",
   "id": "525efb54-203c-40c9-9213-32e5d157417d",
   "metadata": {},
   "source": [
    "#### Raising a number to the power of another number"
   ]
  },
  {
   "cell_type": "code",
   "execution_count": 35,
   "id": "a0ab97f7-4f63-4b44-98cd-2da079cf5ac9",
   "metadata": {},
   "outputs": [
    {
     "data": {
      "text/plain": [
       "9"
      ]
     },
     "execution_count": 35,
     "metadata": {},
     "output_type": "execute_result"
    }
   ],
   "source": [
    "3 ** 2"
   ]
  },
  {
   "cell_type": "markdown",
   "id": "f2a8465c-b9a0-4219-8c73-a0d9cd320bf6",
   "metadata": {},
   "source": [
    "#### Finding the remainder of a division (Modulo)"
   ]
  },
  {
   "cell_type": "code",
   "execution_count": 42,
   "id": "c27c7119-05c8-42f8-9a58-d77baa4365ab",
   "metadata": {},
   "outputs": [
    {
     "data": {
      "text/plain": [
       "1"
      ]
     },
     "execution_count": 42,
     "metadata": {},
     "output_type": "execute_result"
    }
   ],
   "source": [
    "10 % 3"
   ]
  },
  {
   "cell_type": "markdown",
   "id": "3c1ecf6c-0bfb-4add-bc62-a73ec05c75ce",
   "metadata": {},
   "source": [
    "### Multiply and add numbers"
   ]
  },
  {
   "cell_type": "code",
   "execution_count": 45,
   "id": "a7921b03-fe14-4f67-87ab-b3330cfecd68",
   "metadata": {},
   "outputs": [
    {
     "data": {
      "text/plain": [
       "37"
      ]
     },
     "execution_count": 45,
     "metadata": {},
     "output_type": "execute_result"
    }
   ],
   "source": [
    "result = (5 * 6) + 7\n",
    "result"
   ]
  },
  {
   "cell_type": "markdown",
   "id": "2f330c52-44b2-40b6-a8ff-b3c04ba5ab36",
   "metadata": {},
   "source": [
    "### Convert minutes to hours"
   ]
  },
  {
   "cell_type": "code",
   "execution_count": 48,
   "id": "6c5b086f-0690-4abd-b74d-5342c93b0803",
   "metadata": {},
   "outputs": [
    {
     "data": {
      "text/plain": [
       "2.0"
      ]
     },
     "execution_count": 48,
     "metadata": {},
     "output_type": "execute_result"
    }
   ],
   "source": [
    "minutes = 120\n",
    "hours = minutes / 60\n",
    "hours"
   ]
  },
  {
   "cell_type": "markdown",
   "id": "cd1a3ced-b753-4b38-a952-fd2ce1aa8c72",
   "metadata": {},
   "source": [
    "### Objectives\n",
    "- Demonstrate the use of Markdown in Jupyter notebooks.\n",
    "- Showcase basic arithmetic operations using Python code.\n",
    "- Familiarize with data science languages, libraries, and tools.\n",
    "- Successfully share the notebook via GitHub."
   ]
  },
  {
   "cell_type": "markdown",
   "id": "f4a1fa1a-f99c-47c2-a4ec-be7ab0f9235f",
   "metadata": {},
   "source": [
    "## Author\n",
    "*Prithviraj Anchan*"
   ]
  },
  {
   "cell_type": "code",
   "execution_count": null,
   "id": "d56e7763-008a-4ba7-947b-ea96290ee8ea",
   "metadata": {},
   "outputs": [],
   "source": []
  }
 ],
 "metadata": {
  "kernelspec": {
   "display_name": "Python 3 (ipykernel)",
   "language": "python",
   "name": "python3"
  },
  "language_info": {
   "codemirror_mode": {
    "name": "ipython",
    "version": 3
   },
   "file_extension": ".py",
   "mimetype": "text/x-python",
   "name": "python",
   "nbconvert_exporter": "python",
   "pygments_lexer": "ipython3",
   "version": "3.12.4"
  }
 },
 "nbformat": 4,
 "nbformat_minor": 5
}
